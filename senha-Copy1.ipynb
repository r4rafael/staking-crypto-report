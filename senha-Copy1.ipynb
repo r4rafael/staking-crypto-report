{
 "cells": [
  {
   "cell_type": "code",
   "execution_count": 2,
   "id": "e3f3f5ab",
   "metadata": {},
   "outputs": [],
   "source": [
    "senha_brcondos = \"Marques@22\"\n",
    "senha_gmail = \"temistocles@69W\"\n",
    "meu_gmail = \"r4rafael@gmail.com\""
   ]
  }
 ],
 "metadata": {
  "kernelspec": {
   "display_name": "Python 3 (ipykernel)",
   "language": "python",
   "name": "python3"
  },
  "language_info": {
   "codemirror_mode": {
    "name": "ipython",
    "version": 3
   },
   "file_extension": ".py",
   "mimetype": "text/x-python",
   "name": "python",
   "nbconvert_exporter": "python",
   "pygments_lexer": "ipython3",
   "version": "3.10.9"
  }
 },
 "nbformat": 4,
 "nbformat_minor": 5
}
